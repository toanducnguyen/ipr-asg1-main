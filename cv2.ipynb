{
 "cells": [
  {
   "cell_type": "code",
   "execution_count": null,
   "metadata": {},
   "outputs": [],
   "source": [
    "import cv2\n",
    "from PIL import Image\n",
    "\n",
    "def main():\n",
    "    input_path = \"images.jpg\"  # Change this to the path of your input image\n",
    "    output_path = \"images_copy.jpg\"  # Change this to the desired output path\n",
    "    new_width = 300  # Change this to the desired width after resizing\n",
    "    threshold_value = 127  # Change this to the desired threshold value\n",
    "\n",
    "    # Read the input image\n",
    "    img = cv2.imread(input_path)\n",
    "    \n",
    "    # Convert the image to grayscale\n",
    "    gray_img = cv2.cvtColor(img, cv2.COLOR_BGR2GRAY)\n",
    "    \n",
    "    # Display the grayscale image\n",
    "    cv2.imshow('Grayscale Image', gray_img)\n",
    "    \n",
    "    # Threshold the grayscale image\n",
    "    ret, thresh = cv2.threshold(gray_img, threshold_value, 255, cv2.THRESH_BINARY)\n",
    "    \n",
    "    # Display the binary thresholded image\n",
    "    cv2.imshow('Binary Threshold', thresh)\n",
    "    \n",
    "    # Resize the binary thresholded image\n",
    "    resized_image = cv2.resize(thresh, (new_width, int(thresh.shape[0] * (new_width / thresh.shape[1]))))\n",
    "    \n",
    "    # Apply binary thresholding on the resized image\n",
    "    ret2, binary_image = cv2.threshold(resized_image, threshold_value, 255, cv2.THRESH_BINARY)\n",
    "    \n",
    "    # Display the resized binary thresholded image\n",
    "    cv2.imshow('Resized Binary Image', binary_image)\n",
    "    \n",
    "    # Save the binary thresholded image\n",
    "    cv2.imwrite(output_path, binary_image)\n",
    "    \n",
    "    # Wait for any key press and then close all windows\n",
    "    cv2.waitKey(0)\n",
    "    cv2.destroyAllWindows()\n",
    "\n",
    "if __name__ == \"__main__\":\n",
    "    main()\n"
   ]
  }
 ],
 "metadata": {
  "kernelspec": {
   "display_name": "Python 3",
   "language": "python",
   "name": "python3"
  },
  "language_info": {
   "codemirror_mode": {
    "name": "ipython",
    "version": 3
   },
   "file_extension": ".py",
   "mimetype": "text/x-python",
   "name": "python",
   "nbconvert_exporter": "python",
   "pygments_lexer": "ipython3",
   "version": "3.12.2"
  },
  "orig_nbformat": 4
 },
 "nbformat": 4,
 "nbformat_minor": 2
}
